{
 "cells": [
  {
   "cell_type": "code",
   "execution_count": 1014,
   "id": "3b9933ac",
   "metadata": {},
   "outputs": [],
   "source": [
    "# imports\n",
    "\n",
    "import datetime\n",
    "from datetime import datetime as dttm\n",
    "from datetime import date\n",
    "from datetime import timedelta\n",
    "import matplotlib.pyplot as plt\n",
    "from meteostat import Point, Daily\n",
    "import pandas as pd\n",
    "import numpy as np\n",
    "%matplotlib inline\n",
    "from matplotlib.pylab import rcParams\n",
    "rcParams['figure.figsize']=20,10\n",
    "from geopy.geocoders import Nominatim\n",
    "from sklearn.linear_model import Ridge\n",
    "from sklearn.metrics import mean_absolute_error"
   ]
  },
  {
   "cell_type": "code",
   "execution_count": 1015,
   "id": "f77243da",
   "metadata": {},
   "outputs": [],
   "source": [
    "# location name to coordinates\n",
    "\n",
    "def coord(location):\n",
    "    geolocator = Nominatim(user_agent = \"predictor\")\n",
    "    return geolocator.geocode(location)"
   ]
  },
  {
   "cell_type": "code",
   "execution_count": 1016,
   "id": "3a91b94d",
   "metadata": {
    "scrolled": false
   },
   "outputs": [
    {
     "name": "stdout",
     "output_type": "stream",
     "text": [
      "Enter a city - dharamshala\n"
     ]
    }
   ],
   "source": [
    "# set time period\n",
    "\n",
    "today = date.today()\n",
    "de = int((today + timedelta(1)).strftime(\"%d\"))\n",
    "me = int(today.strftime(\"%m\"))\n",
    "ye = int(today.strftime(\"%Y\"))\n",
    "start = dttm(2021, 1, 2)\n",
    "end = dttm(ye, me, de)\n",
    "\n",
    "# get place\n",
    "\n",
    "city = input('Enter a city - ')\n",
    "x = coord(city)\n",
    "lat = int(x.latitude)\n",
    "lon = int(x.longitude)\n",
    "place = Point(lat, lon)\n",
    "#place = Point(21.2120677, 81.3732849)\n",
    "\n",
    "# get data\n",
    "\n",
    "data = Daily(place, start, end)\n",
    "data = data.fetch()\n",
    "\n",
    "# put data in a dataframe\n",
    "\n",
    "weather = pd.DataFrame(data)\n",
    "weather.drop(['tavg', 'snow', 'wspd', 'wdir', 'wpgt', 'pres', 'tsun'], axis = 1, inplace = True)\n",
    "#print(weather)"
   ]
  },
  {
   "cell_type": "code",
   "execution_count": 1017,
   "id": "5983cf87",
   "metadata": {},
   "outputs": [],
   "source": [
    "# remove NULL values\n",
    "\n",
    "weather.apply(pd.isnull).sum()\n",
    "weather['prcp'] = weather['prcp'].fillna(0)\n",
    "weather[pd.isnull(weather['tmax'])]\n",
    "weather = weather.fillna(method = 'ffill')\n",
    "#weather.apply(pd.isnull).sum()"
   ]
  },
  {
   "cell_type": "code",
   "execution_count": 1018,
   "id": "6898c1a8",
   "metadata": {},
   "outputs": [],
   "source": [
    "# specify target data for prediction\n",
    "\n",
    "weather['target_max'] = weather.shift(-1)['tmax']\n",
    "weather['target_min'] = weather.shift(-1)['tmin']\n",
    "m1 = weather.target_max[-2:-9:-1].mean()\n",
    "m2 = weather.target_min[-2:-9:-1].mean()\n",
    "weather.target_max[-1] = m1\n",
    "weather.target_min[-1] = m2"
   ]
  },
  {
   "cell_type": "code",
   "execution_count": 1019,
   "id": "a41295bb",
   "metadata": {},
   "outputs": [],
   "source": [
    "# set ridge regression model\n",
    "\n",
    "reg_max = Ridge(alpha = 0.1)\n",
    "predictors = ['tmax', 'tmin']\n",
    "train = weather.loc[:'2022-10-31']\n",
    "test = weather.loc['2022-11-01':]\n",
    "reg_max.fit(train[predictors], train['target_max'])\n",
    "predictions = reg_max.predict(test[predictors])\n",
    "\n",
    "reg_min = Ridge(alpha = 0.1)\n",
    "predictors = ['tmax', 'tmin']\n",
    "train = weather.loc[:'2022-10-31']\n",
    "test = weather.loc['2022-11-01':]\n",
    "reg_min.fit(train[predictors], train['target_min'])\n",
    "predictions = reg_min.predict(test[predictors])"
   ]
  },
  {
   "cell_type": "code",
   "execution_count": 1020,
   "id": "db4ccdba",
   "metadata": {},
   "outputs": [],
   "source": [
    "# generalizing the predictor model\n",
    "\n",
    "def predictor_max(predictors, weather, reg):\n",
    "    train = weather.loc[:'2022-10-31']\n",
    "    test = weather.loc['2022-11-01':]\n",
    "    reg_max.fit(train[predictors], train['target_max'])\n",
    "    predictions = reg_max.predict(test[predictors])\n",
    "    error_max = mean_absolute_error(test['target_max'], predictions)\n",
    "    combined_max = pd.concat([test['target_max'], pd.Series(predictions, index = test.index)], axis = 1)\n",
    "    combined_max.columns = ['previous_max', 'predictions_max']\n",
    "    return error_max, combined_max\n",
    "\n",
    "def predictor_min(predictors, weather, reg):\n",
    "    train = weather.loc[:'2022-10-31']\n",
    "    test = weather.loc['2022-11-01':]\n",
    "    reg_min.fit(train[predictors], train['target_min'])\n",
    "    predictions = reg_min.predict(test[predictors])\n",
    "    error_min = mean_absolute_error(test['target_min'], predictions)\n",
    "    combined_min = pd.concat([test['target_min'], pd.Series(predictions, index = test.index)], axis = 1)\n",
    "    combined_min.columns = ['previous_min', 'predictions_min']\n",
    "    return error_min, combined_min"
   ]
  },
  {
   "cell_type": "code",
   "execution_count": 1021,
   "id": "c2bcf0a0",
   "metadata": {},
   "outputs": [],
   "source": [
    "# calculate error and predictions based on the parameters\n",
    "\n",
    "weather['month_max_max'] = weather['tmax'].rolling(30).mean()\n",
    "weather['month_day_max_max'] = weather['month_max_max'] / weather['tmax']\n",
    "weather['max_min_max'] = weather['tmax'] / weather['tmin']\n",
    "weather = weather.iloc[30:,:].copy()\n",
    "weather['monthly_avg_max'] = weather['tmax'].groupby(weather.index.month, group_keys=False).apply(lambda x : x.expanding(1).mean())\n",
    "weather['day_of_year_avg_max'] = weather['tmax'].groupby(weather.index.day_of_year, group_keys=False).apply(lambda x : x.expanding(1).mean())\n",
    "predictors_max = ['tmax', 'tmin', 'month_max_max', 'month_day_max_max', 'max_min_max', 'day_of_year_avg_max', 'monthly_avg_max']\n",
    "\n",
    "weather['month_max_min'] = weather['tmin'].rolling(30).mean()\n",
    "weather['month_day_max_min'] = weather['month_max_min'] / weather['tmin']\n",
    "weather['max_min_min'] = weather['tmax'] / weather['tmin']\n",
    "weather = weather.iloc[30:,:].copy()\n",
    "weather['monthly_avg_min'] = weather['tmin'].groupby(weather.index.month, group_keys=False).apply(lambda x : x.expanding(1).mean())\n",
    "weather['day_of_year_avg_min'] = weather['tmin'].groupby(weather.index.day_of_year, group_keys=False).apply(lambda x : x.expanding(1).mean())\n",
    "predictors_min = ['tmax', 'tmin', 'month_max_min', 'month_day_max_min', 'max_min_min', 'day_of_year_avg_min', 'monthly_avg_min']\n",
    "\n",
    "error_max, combined_max = predictor_max(predictors_max, weather, reg)\n",
    "error_min, combined_min = predictor_min(predictors_min, weather, reg)"
   ]
  },
  {
   "cell_type": "code",
   "execution_count": 1022,
   "id": "e9b7af3d",
   "metadata": {},
   "outputs": [
    {
     "name": "stdout",
     "output_type": "stream",
     "text": [
      "Tomorrow's maximum temperature - 22.91227218556851°C\n",
      "Tomorrow's minimum temperature - 14.902488388050458°C\n",
      "Error in maximum temperature   - 1.7659691375486832°C\n",
      "Error in minimum temperature   - 1.9493488621388804°C\n"
     ]
    }
   ],
   "source": [
    "print(\"Tomorrow's maximum temperature - \", combined_max.predictions_max[-1], chr(176), 'C', sep = '')\n",
    "print(\"Tomorrow's minimum temperature - \", combined_min.predictions_min[-1], chr(176), 'C', sep = '')\n",
    "print(\"Error in maximum temperature   - \", error_max, chr(176), 'C', sep = '')\n",
    "print(\"Error in minimum temperature   - \", error_min, chr(176), 'C', sep = '')"
   ]
  },
  {
   "cell_type": "code",
   "execution_count": null,
   "id": "9b9031ec",
   "metadata": {},
   "outputs": [],
   "source": []
  }
 ],
 "metadata": {
  "kernelspec": {
   "display_name": "Python 3 (ipykernel)",
   "language": "python",
   "name": "python3"
  },
  "language_info": {
   "codemirror_mode": {
    "name": "ipython",
    "version": 3
   },
   "file_extension": ".py",
   "mimetype": "text/x-python",
   "name": "python",
   "nbconvert_exporter": "python",
   "pygments_lexer": "ipython3",
   "version": "3.10.9"
  },
  "vscode": {
   "interpreter": {
    "hash": "08a8420675f1b3e919f19bb1a25f33adc0d3ad8b706c044353857e93ddf14cda"
   }
  }
 },
 "nbformat": 4,
 "nbformat_minor": 5
}
